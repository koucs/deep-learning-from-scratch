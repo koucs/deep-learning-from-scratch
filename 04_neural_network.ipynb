{
 "cells": [
  {
   "cell_type": "code",
   "execution_count": 1,
   "metadata": {},
   "outputs": [],
   "source": [
    "import sys,os\n",
    "sys.path.append(os.curdir+\"/deep-learning-from-scratch\")\n",
    "from dataset.mnist import load_mnist\n",
    "\n",
    "import numpy as np\n",
    "from PIL import Image\n",
    "import matplotlib.pylab as plt"
   ]
  },
  {
   "cell_type": "code",
   "execution_count": 2,
   "metadata": {},
   "outputs": [],
   "source": [
    "(x_train, t_train), (x_text, t_test) = load_mnist(normalize=True, one_hot_label=True)"
   ]
  },
  {
   "cell_type": "code",
   "execution_count": 3,
   "metadata": {},
   "outputs": [
    {
     "data": {
      "text/plain": [
       "array([0., 0., 0., 0., 0., 1., 0., 0., 0., 0.])"
      ]
     },
     "execution_count": 3,
     "metadata": {},
     "output_type": "execute_result"
    }
   ],
   "source": [
    "t_train[0]"
   ]
  },
  {
   "cell_type": "code",
   "execution_count": 4,
   "metadata": {},
   "outputs": [],
   "source": [
    "def img_show(img):\n",
    "    pil_img = Image.fromarray(np.uint8(img))\n",
    "    pil_img.show()"
   ]
  },
  {
   "cell_type": "code",
   "execution_count": 5,
   "metadata": {},
   "outputs": [],
   "source": [
    "def soft_max(a):\n",
    "    c = np.max(a)\n",
    "    exp_a = np.exp(a - c) # オーバーフロー対策\n",
    "    sum_exp_a = np.sum(exp_a)\n",
    "    y = exp_a / sum_exp_a\n",
    "    return y"
   ]
  },
  {
   "cell_type": "code",
   "execution_count": 6,
   "metadata": {},
   "outputs": [],
   "source": [
    "img_show(x_train[0].reshape(28,28))"
   ]
  },
  {
   "cell_type": "code",
   "execution_count": 7,
   "metadata": {},
   "outputs": [],
   "source": [
    "def cross_entropy_error(y, t):\n",
    "    if y.ndim == 1:\n",
    "        t = t.reshape(1, t.size)\n",
    "        y = y.reshape(1, y.size)\n",
    "    \n",
    "    batch_size = y.shape[0]\n",
    "    return -np.sum(t * np.log(y + 1e-7)) / batch_size"
   ]
  },
  {
   "cell_type": "code",
   "execution_count": 8,
   "metadata": {},
   "outputs": [
    {
     "data": {
      "text/plain": [
       "60000"
      ]
     },
     "execution_count": 8,
     "metadata": {},
     "output_type": "execute_result"
    }
   ],
   "source": [
    "x_train.shape[0]"
   ]
  },
  {
   "cell_type": "code",
   "execution_count": 9,
   "metadata": {},
   "outputs": [
    {
     "data": {
      "text/plain": [
       "10"
      ]
     },
     "execution_count": 9,
     "metadata": {},
     "output_type": "execute_result"
    }
   ],
   "source": [
    "batch_size = 10\n",
    "batch_mask = np.random.choice(x_train.shape[0], batch_size)\n",
    "x_batch = x_train[batch_mask]\n",
    "x_batch.shape[0]"
   ]
  },
  {
   "cell_type": "code",
   "execution_count": 10,
   "metadata": {},
   "outputs": [],
   "source": [
    "# 数値微分 (中心差分)\n",
    "def numerical_diff(f, x):\n",
    "    h = 1e-4\n",
    "    return (f(x+h)-f(x-h)) / (2*h)"
   ]
  },
  {
   "cell_type": "code",
   "execution_count": 11,
   "metadata": {},
   "outputs": [
    {
     "data": {
      "text/plain": [
       "0.1999999999990898"
      ]
     },
     "execution_count": 11,
     "metadata": {},
     "output_type": "execute_result"
    }
   ],
   "source": [
    "function_1 = lambda x: 0.01 * x**2 + 0.1*x\n",
    "\n",
    "numerical_diff(function_1, 5)"
   ]
  },
  {
   "cell_type": "code",
   "execution_count": 12,
   "metadata": {},
   "outputs": [
    {
     "data": {
      "text/plain": [
       "[<matplotlib.lines.Line2D at 0x127604400>]"
      ]
     },
     "execution_count": 12,
     "metadata": {},
     "output_type": "execute_result"
    },
    {
     "data": {
      "image/png": "[encoded data removed]",
      "text/plain": [
       "<Figure size 432x288 with 1 Axes>"
      ]
     },
     "metadata": {
      "needs_background": "light"
     },
     "output_type": "display_data"
    }
   ],
   "source": [
    "x = np.arange(0.0, 20.0, 0.1)\n",
    "y = function_1(x)\n",
    "plt.xlabel(\"x\")\n",
    "plt.ylabel(\"f(x)\")\n",
    "plt.plot(x, y)"
   ]
  },
  {
   "cell_type": "code",
   "execution_count": 13,
   "metadata": {},
   "outputs": [],
   "source": [
    "def numerical_gradient(f, x):\n",
    "    h = 1e-4 # 0.0001\n",
    "    grad = np.zeros_like(x) # same size of x filled by zero\n",
    "\n",
    "    for idx in range(x.size):\n",
    "        tmp_val = x[idx]\n",
    "        \n",
    "        # f(x+h)\n",
    "        x[idx] = tmp_val + h\n",
    "        fxh1 = f(x)\n",
    "\n",
    "        # f(x-h)\n",
    "        x[idx] = tmp_val - h\n",
    "        fxh2 = f(x)\n",
    "\n",
    "        grad[idx] = (fxh1 - fxh2) / (2*h)\n",
    "        x[idx] = tmp_val\n",
    "\n",
    "    return grad"
   ]
  },
  {
   "cell_type": "code",
   "execution_count": 14,
   "metadata": {},
   "outputs": [],
   "source": [
    "function_2 = lambda x: np.sum(x**2)"
   ]
  },
  {
   "cell_type": "code",
   "execution_count": 15,
   "metadata": {},
   "outputs": [
    {
     "data": {
      "text/plain": [
       "array([6., 8.])"
      ]
     },
     "execution_count": 15,
     "metadata": {},
     "output_type": "execute_result"
    }
   ],
   "source": [
    "numerical_gradient(function_2, np.array([3.0, 4.0]))"
   ]
  },
  {
   "cell_type": "code",
   "execution_count": 16,
   "metadata": {},
   "outputs": [],
   "source": [
    "# 勾配降下法\n",
    "def gradient_decent(f, init_x, lr=0.01, step_num=100):    \n",
    "    x = init_x\n",
    "    \n",
    "    for i in range(step_num):\n",
    "        grad = numerical_gradient(f, x)\n",
    "        x -= lr * grad\n",
    "    \n",
    "    return x"
   ]
  },
  {
   "cell_type": "code",
   "execution_count": 17,
   "metadata": {},
   "outputs": [
    {
     "data": {
      "text/plain": [
       "array([-2.91829320e-21, -2.44845461e-22])"
      ]
     },
     "execution_count": 17,
     "metadata": {},
     "output_type": "execute_result"
    }
   ],
   "source": [
    "init_x = np.array([-3.0, 4.0])\n",
    "gradient_decent(function_2, init_x, lr=0.5, step_num=1000)"
   ]
  },
  {
   "cell_type": "code",
   "execution_count": 18,
   "metadata": {},
   "outputs": [],
   "source": [
    "class simpleNet:\n",
    "    def __init__(self):\n",
    "        self.W = np.random.randn(2,3) # ガウス分布\n",
    "    \n",
    "    def predict(self, x):\n",
    "        return np.dot(x, self.W)\n",
    "    \n",
    "    def loss(self, x, t):\n",
    "        z = self.predict(x)\n",
    "        y = soft_max(z)\n",
    "        loss = cross_entropy_error(y, t)\n",
    "        \n",
    "        return loss"
   ]
  },
  {
   "cell_type": "code",
   "execution_count": 19,
   "metadata": {},
   "outputs": [
    {
     "data": {
      "text/plain": [
       "array([[-0.25641608,  0.32073725,  1.42023311],\n",
       "       [ 0.30661752,  0.20897613, -0.33841708]])"
      ]
     },
     "execution_count": 19,
     "metadata": {},
     "output_type": "execute_result"
    }
   ],
   "source": [
    "net = simpleNet()\n",
    "net.W"
   ]
  },
  {
   "cell_type": "code",
   "execution_count": 20,
   "metadata": {},
   "outputs": [
    {
     "data": {
      "text/plain": [
       "2"
      ]
     },
     "execution_count": 20,
     "metadata": {},
     "output_type": "execute_result"
    }
   ],
   "source": [
    "x = np.array([0.6, 0.9])\n",
    "p = net.predict(x)\n",
    "np.argmax(p)"
   ]
  },
  {
   "cell_type": "code",
   "execution_count": 21,
   "metadata": {},
   "outputs": [
    {
     "data": {
      "text/plain": [
       "1.3416018661688334"
      ]
     },
     "execution_count": 21,
     "metadata": {},
     "output_type": "execute_result"
    }
   ],
   "source": [
    "t = np.array([1,0,0]) # 正解ラベル\n",
    "net.loss(x, t)"
   ]
  },
  {
   "cell_type": "code",
   "execution_count": 22,
   "metadata": {},
   "outputs": [],
   "source": [
    "def numerical_gradient2(f, x):\n",
    "    h = 1e-4 # 0.0001\n",
    "    grad = np.zeros_like(x)\n",
    "    \n",
    "    it = np.nditer(x, flags=['multi_index'], op_flags=['readwrite'])\n",
    "    while not it.finished:\n",
    "        idx = it.multi_index\n",
    "        tmp_val = x[idx]\n",
    "        x[idx] = float(tmp_val) + h\n",
    "        fxh1 = f(x) # f(x+h)\n",
    "        \n",
    "        x[idx] = tmp_val - h \n",
    "        fxh2 = f(x) # f(x-h)\n",
    "        grad[idx] = (fxh1 - fxh2) / (2*h)\n",
    "        \n",
    "        x[idx] = tmp_val # 値を元に戻す\n",
    "        it.iternext()   \n",
    "        \n",
    "    return grad"
   ]
  },
  {
   "cell_type": "code",
   "execution_count": 23,
   "metadata": {},
   "outputs": [
    {
     "data": {
      "text/plain": [
       "array([[-0.44314395,  0.2031088 ,  0.24003516],\n",
       "       [-0.66471593,  0.30466319,  0.36005274]])"
      ]
     },
     "execution_count": 23,
     "metadata": {},
     "output_type": "execute_result"
    }
   ],
   "source": [
    "f = lambda w: net.loss(x, t)\n",
    "dW = numerical_gradient2(f, net.W)\n",
    "dW"
   ]
  },
  {
   "cell_type": "code",
   "execution_count": 37,
   "metadata": {},
   "outputs": [],
   "source": [
    "def sigmoid(x):\n",
    "    return 1/(1+np.exp(-x))"
   ]
  },
  {
   "cell_type": "code",
   "execution_count": 62,
   "metadata": {},
   "outputs": [],
   "source": [
    "class TwoLayerNet:\n",
    "    def __init__(self, input_size, hidden_size, output_size, weight_init_std = 0.01):\n",
    "        # 重みの初期化\n",
    "        self.params = {}\n",
    "        self.params[\"W1\"] = weight_init_std * np.random.randn(input_size,hidden_size)\n",
    "        self.params[\"b1\"] = np.zeros(hidden_size)\n",
    "        self.params[\"W2\"] = weight_init_std * np.random.randn(hidden_size,output_size)\n",
    "        self.params[\"b2\"] = np.zeros(output_size)\n",
    "    \n",
    "    def predict(self, x):\n",
    "        W1, W2 = self.params[\"W1\"], self.params[\"W2\"]\n",
    "        b1, b2 = self.params[\"b1\"], self.params[\"b2\"]\n",
    "        \n",
    "        a1 = np.dot(x, W1) + b1\n",
    "        z1 = sigmoid(a1)\n",
    "        a2 = np.dot(z1, W2) + b2\n",
    "        y = softmax(a2)\n",
    "        \n",
    "        return y\n",
    "    \n",
    "    def loss(self, x, t):\n",
    "        y = self.predict(x)\n",
    "        loss = cross_entropy_error(y, t)\n",
    "        \n",
    "        return loss\n",
    "    \n",
    "    def accuracy(self, x, t):\n",
    "        y = self.predict(x)\n",
    "        y = np.argmax(x, axis=1)\n",
    "        t = np.argmax(t, axis=1)\n",
    "\n",
    "        accuracy = np.sum(y == t) / float(x.shape[0])\n",
    "        return accuracy\n",
    "    \n",
    "    def numerical_gradient(self, x, t):\n",
    "        loss_W = lambda W: self.loss(x, t)\n",
    "        grads = {}\n",
    "        \n",
    "        grads[\"W1\"] = numerical_gradient2(loss_W, self.params[\"W1\"])\n",
    "        grads[\"b1\"] = numerical_gradient2(loss_W, self.params[\"b1\"])\n",
    "        grads[\"W2\"] = numerical_gradient2(loss_W, self.params[\"W2\"])\n",
    "        grads[\"b2\"] = numerical_gradient2(loss_W, self.params[\"b2\"])\n",
    "        \n",
    "        return grads"
   ]
  },
  {
   "cell_type": "code",
   "execution_count": 63,
   "metadata": {},
   "outputs": [
    {
     "data": {
      "text/plain": [
       "(100,)"
      ]
     },
     "execution_count": 63,
     "metadata": {},
     "output_type": "execute_result"
    }
   ],
   "source": [
    "net = TwoLayerNet(input_size=784, hidden_size=100, output_size=10)\n",
    "net.params[\"b1\"].shape"
   ]
  },
  {
   "cell_type": "code",
   "execution_count": 64,
   "metadata": {},
   "outputs": [],
   "source": [
    "(x_train, t_train), (x_text, t_test) = load_mnist(normalize=True, one_hot_label=True)\n",
    "train_loss_list = []"
   ]
  },
  {
   "cell_type": "code",
   "execution_count": 65,
   "metadata": {},
   "outputs": [],
   "source": [
    "def softmax(x):\n",
    "    if x.ndim == 2:\n",
    "        x = x.T\n",
    "        x = x - np.max(x, axis=0)\n",
    "        y = np.exp(x) / np.sum(np.exp(x), axis=0)\n",
    "        return y.T\n",
    "\n",
    "    x = x - np.max(x) # オーバーフロー対策\n",
    "    return np.exp(x) / np.sum(np.exp(x))"
   ]
  },
  {
   "cell_type": "code",
   "execution_count": 66,
   "metadata": {},
   "outputs": [
    {
     "data": {
      "text/plain": [
       "{'W1': array([[ 1.30807452e-03, -2.78047803e-04,  6.71228004e-05, ...,\n",
       "          8.22264999e-05, -9.35414066e-04, -2.05259158e-04],\n",
       "        [ 6.66699184e-04,  4.40190451e-04,  1.15315759e-04, ...,\n",
       "         -4.72721337e-04, -5.06232341e-04, -2.98074355e-04],\n",
       "        [ 1.84643307e-04, -5.76055887e-04, -5.02940838e-04, ...,\n",
       "          5.92349961e-05, -3.15619281e-04,  4.69829940e-04],\n",
       "        ...,\n",
       "        [-2.36210288e-04,  9.74779693e-05,  2.52938940e-04, ...,\n",
       "         -4.69779727e-04, -4.58637476e-04,  4.75125481e-04],\n",
       "        [ 5.91533652e-04,  6.34887174e-04,  2.07283303e-04, ...,\n",
       "         -4.62359314e-04, -9.56923056e-04,  3.79728570e-04],\n",
       "        [-1.05994964e-04, -6.98951765e-04,  2.68182323e-04, ...,\n",
       "          1.63335843e-04,  4.32309985e-04, -1.78444248e-04]]),\n",
       " 'W2': array([[ 3.42867174e-02, -2.66756118e-02,  3.75639287e-02,\n",
       "         -1.35011086e-02,  2.18017589e-02, -2.12990513e-02,\n",
       "          8.71938660e-02, -8.42986850e-02,  1.89065130e-02,\n",
       "         -5.39783274e-02],\n",
       "        [ 2.83728650e-02, -3.36345490e-02,  2.79894524e-02,\n",
       "          1.61098354e-03,  2.55217143e-02, -3.84080223e-02,\n",
       "          1.00714371e-01, -7.63182789e-02,  2.36748450e-02,\n",
       "         -5.95233810e-02],\n",
       "        [ 3.13264372e-02, -2.38943142e-02,  2.56484273e-02,\n",
       "         -7.52123937e-03,  2.88310762e-02, -2.69343739e-02,\n",
       "          9.12703511e-02, -8.66472587e-02,  2.19392566e-02,\n",
       "         -5.40183622e-02],\n",
       "        [ 3.83096135e-02, -2.41835971e-02,  2.31108852e-02,\n",
       "         -1.28254586e-02,  2.69120880e-02, -2.35633913e-02,\n",
       "          9.15104220e-02, -8.76650071e-02,  1.92342233e-02,\n",
       "         -5.08397780e-02],\n",
       "        [ 3.84369703e-02, -2.30501203e-02,  3.27865858e-02,\n",
       "         -1.06117856e-03,  2.54272938e-02, -3.62625884e-02,\n",
       "          9.01081994e-02, -8.67320995e-02,  1.41589081e-02,\n",
       "         -5.38119707e-02],\n",
       "        [ 2.98759144e-02, -1.63387597e-02,  3.45842645e-02,\n",
       "         -9.12160838e-03,  1.79883798e-02, -2.92152397e-02,\n",
       "          8.79481670e-02, -8.83529421e-02,  2.16644702e-02,\n",
       "         -4.90326459e-02],\n",
       "        [ 3.44882809e-02, -2.23493080e-02,  2.13020185e-02,\n",
       "         -9.11340069e-03,  2.69227550e-02, -2.57471163e-02,\n",
       "          9.44502971e-02, -9.13305090e-02,  1.99853887e-02,\n",
       "         -4.86084062e-02],\n",
       "        [ 3.53435057e-02, -2.14839280e-02,  3.92399063e-02,\n",
       "         -1.05377310e-04,  1.42492084e-02, -3.57969556e-02,\n",
       "          9.50545280e-02, -7.85945068e-02,  1.44680034e-02,\n",
       "         -6.23743842e-02],\n",
       "        [ 2.44904293e-02, -2.90082757e-02,  2.55764649e-02,\n",
       "          3.69402557e-03,  3.49135354e-02, -3.03452012e-02,\n",
       "          9.10510276e-02, -8.23616945e-02,  2.25543046e-02,\n",
       "         -6.05646160e-02],\n",
       "        [ 2.36941358e-02, -2.18909829e-02,  3.67641721e-02,\n",
       "          3.87674966e-03,  3.15983157e-02, -3.86711593e-02,\n",
       "          8.77751332e-02, -7.62421992e-02,  9.16912008e-03,\n",
       "         -5.60732850e-02],\n",
       "        [ 2.87879398e-02, -2.12612157e-02,  2.06057458e-02,\n",
       "         -1.18603285e-02,  2.32019681e-02, -3.56333267e-02,\n",
       "          1.00221328e-01, -6.85514768e-02,  2.40237983e-02,\n",
       "         -5.95344321e-02],\n",
       "        [ 3.94236309e-02, -2.95771013e-02,  3.31471283e-02,\n",
       "          2.42311552e-03,  2.36751988e-02, -3.27108974e-02,\n",
       "          9.59771045e-02, -9.49609607e-02,  1.77703688e-02,\n",
       "         -5.51675873e-02],\n",
       "        [ 3.20346621e-02, -2.94093366e-02,  2.99733164e-02,\n",
       "         -1.09033144e-02,  3.03683381e-02, -3.04552680e-02,\n",
       "          1.00850928e-01, -9.66669769e-02,  2.55680514e-02,\n",
       "         -5.13604005e-02],\n",
       "        [ 3.47342669e-02, -3.37597720e-02,  2.77701881e-02,\n",
       "         -2.51722856e-03,  3.47986717e-02, -2.88086082e-02,\n",
       "          8.22341539e-02, -9.45849796e-02,  2.18195973e-02,\n",
       "         -4.16862895e-02],\n",
       "        [ 3.88488918e-02, -3.72252974e-02,  2.54176985e-02,\n",
       "         -7.63668696e-03,  2.70317741e-02, -2.79803665e-02,\n",
       "          9.33309779e-02, -7.74950150e-02,  2.41980068e-02,\n",
       "         -5.84899833e-02],\n",
       "        [ 3.32712689e-02, -1.76475629e-02,  3.06537763e-02,\n",
       "          5.30802533e-03,  1.42554746e-02, -2.77110811e-02,\n",
       "          8.39519475e-02, -8.50585220e-02,  1.98132532e-02,\n",
       "         -5.68365798e-02],\n",
       "        [ 2.92954151e-02, -3.95654504e-02,  2.51798834e-02,\n",
       "          7.10341686e-03,  3.33855378e-02, -2.50936925e-02,\n",
       "          1.00960340e-01, -8.75675543e-02,  1.20989268e-02,\n",
       "         -5.57968229e-02],\n",
       "        [ 2.56253367e-02, -3.53954903e-02,  2.90109103e-02,\n",
       "         -1.20442758e-02,  2.91700288e-02, -2.53139991e-02,\n",
       "          9.85790365e-02, -9.24805927e-02,  2.53015263e-02,\n",
       "         -4.24524805e-02],\n",
       "        [ 4.48429269e-02, -2.83647584e-02,  2.15503136e-02,\n",
       "         -8.82655635e-03,  2.07432243e-02, -1.57438079e-02,\n",
       "          9.34701922e-02, -8.06215898e-02,  1.42195650e-02,\n",
       "         -6.12695096e-02],\n",
       "        [ 1.98630269e-02, -3.30612721e-02,  3.04573158e-02,\n",
       "         -5.94018153e-03,  4.03670156e-02, -3.46229078e-02,\n",
       "          9.39520452e-02, -7.72910379e-02,  2.09261388e-02,\n",
       "         -5.46501429e-02],\n",
       "        [ 3.05508794e-02, -2.73807830e-02,  2.87649320e-02,\n",
       "          5.40085632e-03,  2.16104721e-02, -3.48581590e-02,\n",
       "          9.12915354e-02, -8.37472142e-02,  2.01652966e-02,\n",
       "         -5.17978156e-02],\n",
       "        [ 3.53942840e-02, -3.49852595e-02,  3.26418720e-02,\n",
       "         -2.06496613e-03,  1.89802675e-02, -3.16830331e-02,\n",
       "          9.34256317e-02, -8.94032659e-02,  2.98790755e-02,\n",
       "         -5.21846060e-02],\n",
       "        [ 2.91987817e-02, -1.66762155e-02,  3.27969770e-02,\n",
       "          1.44847936e-03,  2.85611838e-02, -3.50102645e-02,\n",
       "          7.61025052e-02, -7.88247278e-02,  8.68643047e-03,\n",
       "         -4.62831498e-02],\n",
       "        [ 2.91672919e-02, -3.25113575e-02,  3.56254151e-02,\n",
       "          6.49522715e-03,  3.20932150e-02, -4.08444862e-02,\n",
       "          9.88968496e-02, -8.61711464e-02,  1.50315515e-02,\n",
       "         -5.77825602e-02],\n",
       "        [ 3.70762756e-02, -3.01179267e-02,  2.77276263e-02,\n",
       "         -1.24310910e-02,  3.41650702e-02, -1.93316192e-02,\n",
       "          8.63669836e-02, -8.87781963e-02,  2.31145487e-02,\n",
       "         -5.77916712e-02],\n",
       "        [ 1.97674094e-02, -2.50146305e-02,  2.94367541e-02,\n",
       "          6.73113709e-04,  2.64192116e-02, -3.14315262e-02,\n",
       "          9.45293663e-02, -8.50531886e-02,  1.96141464e-02,\n",
       "         -4.89406561e-02],\n",
       "        [ 3.37454073e-02, -3.84331409e-02,  2.45686369e-02,\n",
       "         -4.37172050e-03,  2.36912004e-02, -2.48681906e-02,\n",
       "          9.00903584e-02, -8.29017959e-02,  2.47427475e-02,\n",
       "         -4.62635026e-02],\n",
       "        [ 2.58446010e-02, -2.67062332e-02,  2.81779676e-02,\n",
       "         -5.93828996e-03,  3.52496127e-02, -3.55786904e-02,\n",
       "          8.81700208e-02, -9.26458578e-02,  2.23371287e-02,\n",
       "         -3.89102595e-02],\n",
       "        [ 9.56634622e-03, -2.18011301e-02,  3.84093653e-02,\n",
       "         -3.59058134e-03,  3.55052126e-02, -3.32921630e-02,\n",
       "          8.99831414e-02, -7.71916253e-02,  1.69670620e-02,\n",
       "         -5.45556278e-02],\n",
       "        [ 4.02844688e-02, -2.99545282e-02,  2.87425004e-02,\n",
       "          3.56854146e-03,  2.54741469e-02, -3.79552155e-02,\n",
       "          9.91264617e-02, -8.57183121e-02,  1.16601969e-02,\n",
       "         -5.52282603e-02],\n",
       "        [ 2.95596858e-02, -2.95086320e-02,  2.23739021e-02,\n",
       "         -1.02418123e-02,  2.69789805e-02, -1.31127326e-02,\n",
       "          9.11612809e-02, -9.59755749e-02,  2.36940928e-02,\n",
       "         -4.49291904e-02],\n",
       "        [ 3.40387071e-02, -2.12788280e-02,  2.64086824e-02,\n",
       "         -6.11622293e-03,  2.95194196e-02, -2.81841117e-02,\n",
       "          9.17869062e-02, -9.35952561e-02,  1.28506972e-02,\n",
       "         -4.54299937e-02],\n",
       "        [ 3.46607539e-02, -4.27241819e-02,  1.62356609e-02,\n",
       "          4.07247346e-03,  2.90671504e-02, -3.30455866e-02,\n",
       "          1.03006880e-01, -8.68595524e-02,  2.12605207e-02,\n",
       "         -4.56741190e-02],\n",
       "        [ 3.30178424e-02, -3.52245314e-02,  2.45530373e-02,\n",
       "          3.83560575e-03,  3.45605172e-02, -2.48129379e-02,\n",
       "          9.57522583e-02, -8.50688378e-02,  1.93382778e-02,\n",
       "         -6.59512317e-02],\n",
       "        [ 3.48566269e-02, -3.34204289e-02,  2.84500330e-02,\n",
       "         -5.78339380e-03,  3.02948120e-02, -2.54191642e-02,\n",
       "          9.52481637e-02, -9.08731275e-02,  1.55819567e-02,\n",
       "         -4.89354780e-02],\n",
       "        [ 2.95828497e-02, -2.78801672e-02,  1.47780209e-02,\n",
       "         -5.67802553e-03,  2.47909513e-02, -2.29430254e-02,\n",
       "          9.47276828e-02, -8.07913649e-02,  2.33873861e-02,\n",
       "         -4.99743078e-02],\n",
       "        [ 3.79180518e-02, -3.11320534e-02,  2.65773881e-02,\n",
       "         -1.02631355e-03,  2.92342214e-02, -2.91036822e-02,\n",
       "          8.72906225e-02, -8.20908484e-02,  2.13128643e-02,\n",
       "         -5.89802506e-02],\n",
       "        [ 2.93540847e-02, -2.80491586e-02,  3.04041319e-02,\n",
       "         -1.45255823e-03,  2.93324650e-02, -4.20068668e-02,\n",
       "          8.35412753e-02, -7.53231199e-02,  2.44182434e-02,\n",
       "         -5.02184967e-02],\n",
       "        [ 2.40557178e-02, -2.87969407e-02,  3.35293631e-02,\n",
       "          1.47179988e-03,  2.91355203e-02, -2.68369672e-02,\n",
       "          8.25403971e-02, -8.91424046e-02,  2.56765974e-02,\n",
       "         -5.16330830e-02],\n",
       "        [ 3.43467206e-02, -2.43752219e-02,  3.19238592e-02,\n",
       "         -5.72700248e-03,  2.38601948e-02, -4.41880732e-02,\n",
       "          8.78540317e-02, -6.93259432e-02,  1.98969222e-02,\n",
       "         -5.42654876e-02],\n",
       "        [ 3.84465643e-02, -3.39523836e-02,  2.11407985e-02,\n",
       "         -4.14008265e-03,  3.07351487e-02, -3.51549868e-02,\n",
       "          1.06653408e-01, -8.36750166e-02,  1.81463664e-02,\n",
       "         -5.81998167e-02],\n",
       "        [ 3.69943197e-02, -3.19895962e-02,  3.09667138e-02,\n",
       "         -2.06347516e-02,  2.87904165e-02, -3.02554302e-02,\n",
       "          9.66877950e-02, -1.00727407e-01,  3.23034262e-02,\n",
       "         -4.21354862e-02],\n",
       "        [ 3.70790370e-02, -1.90710339e-02,  2.73510093e-02,\n",
       "         -7.87084167e-03,  2.35724049e-02, -2.93468496e-02,\n",
       "          8.32460662e-02, -8.60930697e-02,  1.88715481e-02,\n",
       "         -4.77382706e-02],\n",
       "        [ 3.57541134e-02, -2.44384915e-02,  2.33756777e-02,\n",
       "         -4.38705299e-03,  3.17028684e-02, -3.26749541e-02,\n",
       "          8.08801532e-02, -8.07100679e-02,  1.78822743e-02,\n",
       "         -4.73845205e-02],\n",
       "        [ 2.30916154e-02, -3.51629910e-02,  3.61624705e-02,\n",
       "          1.88147281e-03,  3.56639519e-02, -3.25758932e-02,\n",
       "          8.59333506e-02, -7.84897053e-02,  1.43233292e-02,\n",
       "         -5.08276008e-02],\n",
       "        [ 2.07986356e-02, -3.40865376e-02,  2.62289534e-02,\n",
       "          8.81529451e-03,  2.91808153e-02, -3.32885402e-02,\n",
       "          9.12859841e-02, -8.83695076e-02,  2.81295736e-02,\n",
       "         -4.86946710e-02],\n",
       "        [ 2.20923261e-02, -2.63445816e-02,  3.28549402e-02,\n",
       "         -2.55371262e-03,  3.01129749e-02, -2.91463722e-02,\n",
       "          8.04834324e-02, -6.85853933e-02,  1.69525705e-02,\n",
       "         -5.58661844e-02],\n",
       "        [ 2.70282733e-02, -2.59773568e-02,  3.07329402e-02,\n",
       "         -1.05389278e-02,  2.15250621e-02, -2.44230150e-02,\n",
       "          9.92649133e-02, -8.02055199e-02,  1.63203651e-02,\n",
       "         -5.37267344e-02],\n",
       "        [ 3.79765219e-02, -2.24760202e-02,  2.94284001e-02,\n",
       "         -1.12017627e-02,  2.74610661e-02, -3.74657393e-02,\n",
       "          9.12702273e-02, -8.66821214e-02,  1.85639128e-02,\n",
       "         -4.68744847e-02],\n",
       "        [ 3.16296719e-02, -2.38441258e-02,  2.15158384e-02,\n",
       "         -1.79179225e-02,  2.52438074e-02, -2.86087966e-02,\n",
       "          9.89468930e-02, -8.15265725e-02,  2.11782966e-02,\n",
       "         -4.66170899e-02],\n",
       "        [ 5.13373906e-02, -2.43076266e-02,  1.31752918e-02,\n",
       "         -1.64135994e-02,  1.70070684e-02, -2.97333238e-02,\n",
       "          9.25018806e-02, -7.40307583e-02,  2.57919004e-02,\n",
       "         -5.53282238e-02],\n",
       "        [ 1.98626387e-02, -3.31091630e-02,  2.46668861e-02,\n",
       "         -4.17023051e-03,  2.82709815e-02, -2.04190838e-02,\n",
       "          9.25961728e-02, -8.35020466e-02,  3.13136791e-02,\n",
       "         -5.55098343e-02],\n",
       "        [ 3.33303390e-02, -2.53540021e-02,  3.16432772e-02,\n",
       "         -1.09055982e-02,  2.55152329e-02, -2.54933180e-02,\n",
       "          8.98721081e-02, -8.44130616e-02,  1.41905531e-02,\n",
       "         -4.83855305e-02],\n",
       "        [ 3.67096397e-02, -6.45038770e-03,  2.91801547e-02,\n",
       "         -1.25220390e-02,  1.23776935e-02, -2.56895735e-02,\n",
       "          8.23829118e-02, -8.77920735e-02,  1.35294941e-02,\n",
       "         -4.17258200e-02],\n",
       "        [ 4.16649383e-02, -3.79881280e-02,  2.75474543e-02,\n",
       "         -7.18778989e-03,  2.31373812e-02, -2.65795243e-02,\n",
       "          9.62513761e-02, -8.36114350e-02,  2.22231539e-02,\n",
       "         -5.54574265e-02],\n",
       "        [ 2.29626956e-02, -4.07867995e-02,  2.59350758e-02,\n",
       "          4.53860918e-03,  3.28209109e-02, -3.25959128e-02,\n",
       "          1.02239626e-01, -8.12715248e-02,  2.34074044e-02,\n",
       "         -5.72500846e-02],\n",
       "        [ 3.16426572e-02, -2.55374393e-02,  2.97639645e-02,\n",
       "          3.27275921e-03,  2.15511426e-02, -3.12246802e-02,\n",
       "          9.26887482e-02, -8.90455408e-02,  2.40231266e-02,\n",
       "         -5.71347382e-02],\n",
       "        [ 3.26150085e-02, -2.38631265e-02,  2.89944942e-02,\n",
       "         -1.83820010e-02,  2.28238097e-02, -3.25499697e-02,\n",
       "          9.02172397e-02, -8.22962158e-02,  2.79777222e-02,\n",
       "         -4.55369614e-02],\n",
       "        [ 4.89448251e-02, -2.71687716e-02,  1.67769321e-02,\n",
       "         -5.86365979e-03,  1.45857289e-02, -3.19639237e-02,\n",
       "          9.60704812e-02, -7.76198780e-02,  2.14185459e-02,\n",
       "         -5.51802801e-02],\n",
       "        [ 3.53506306e-02, -2.65542302e-02,  3.37090200e-02,\n",
       "         -7.38363991e-03,  3.02416228e-02, -2.65480416e-02,\n",
       "          9.17170946e-02, -9.29404007e-02,  5.16307464e-03,\n",
       "         -4.27551301e-02],\n",
       "        [ 2.83759538e-02, -2.91639557e-02,  2.93072696e-02,\n",
       "          1.66752007e-03,  2.81322615e-02, -2.33510149e-02,\n",
       "          9.04021503e-02, -8.72708482e-02,  1.73643892e-02,\n",
       "         -5.54637257e-02],\n",
       "        [ 3.17089351e-02, -2.94554369e-02,  2.56325905e-02,\n",
       "         -2.24376548e-03,  2.69564832e-02, -3.78147230e-02,\n",
       "          8.91515267e-02, -7.07106080e-02,  3.02311412e-02,\n",
       "         -6.34561432e-02],\n",
       "        [ 2.21411160e-02, -2.18526238e-02,  2.30357298e-02,\n",
       "          6.72461590e-03,  3.34232512e-02, -3.90286437e-02,\n",
       "          9.08329810e-02, -8.05645718e-02,  2.01874322e-02,\n",
       "         -5.48992868e-02],\n",
       "        [ 2.98703135e-02, -2.22177735e-02,  2.46901050e-02,\n",
       "         -1.10289686e-02,  2.09865048e-02, -2.40141182e-02,\n",
       "          9.88739043e-02, -8.12459159e-02,  1.63420406e-02,\n",
       "         -5.22560919e-02],\n",
       "        [ 2.95140408e-02, -2.94390625e-02,  3.67859730e-02,\n",
       "          7.19001453e-03,  2.28506520e-02, -3.19177298e-02,\n",
       "          8.83152160e-02, -8.52920468e-02,  1.54470757e-02,\n",
       "         -5.34541329e-02],\n",
       "        [ 2.51022542e-02, -1.68671835e-02,  2.37867654e-02,\n",
       "         -7.19320850e-03,  3.06345606e-02, -3.63685730e-02,\n",
       "          9.66724079e-02, -7.48219458e-02,  1.59805500e-02,\n",
       "         -5.69256274e-02],\n",
       "        [ 2.80116961e-02, -3.70682540e-02,  2.93187116e-02,\n",
       "          7.04853322e-04,  3.35993158e-02, -3.01592594e-02,\n",
       "          9.03679818e-02, -8.77722849e-02,  2.67800078e-02,\n",
       "         -5.37827681e-02],\n",
       "        [ 2.27252624e-02, -1.97888615e-02,  3.27467703e-02,\n",
       "         -2.83975774e-03,  3.23591246e-02, -2.32592130e-02,\n",
       "          8.36584144e-02, -9.03865961e-02,  1.24382292e-02,\n",
       "         -4.76533725e-02],\n",
       "        [ 2.44449489e-02, -3.25602504e-02,  3.44672334e-02,\n",
       "         -7.45107126e-03,  3.34506707e-02, -2.29385791e-02,\n",
       "          8.68760138e-02, -7.29340513e-02,  1.95663716e-02,\n",
       "         -6.29212862e-02],\n",
       "        [ 2.80454962e-02, -3.42866043e-02,  2.93877054e-02,\n",
       "         -1.25014188e-03,  1.98514433e-02, -1.02620263e-02,\n",
       "          9.45407364e-02, -1.00834775e-01,  1.70226917e-02,\n",
       "         -4.22145252e-02],\n",
       "        [ 2.96986599e-02, -2.97407586e-02,  1.99170484e-02,\n",
       "         -6.24662038e-03,  3.68339669e-02, -1.41108565e-02,\n",
       "          8.76681387e-02, -1.01302974e-01,  2.38531630e-02,\n",
       "         -4.65697671e-02],\n",
       "        [ 3.15711082e-02, -2.07776856e-02,  3.42949350e-02,\n",
       "         -1.16123919e-02,  2.15393656e-02, -2.67595128e-02,\n",
       "          8.99040210e-02, -8.66040213e-02,  1.88895250e-02,\n",
       "         -5.04453431e-02],\n",
       "        [ 2.17235594e-02, -2.97634352e-02,  2.36283318e-02,\n",
       "         -8.17162551e-03,  2.86773996e-02, -2.63934442e-02,\n",
       "          1.00881505e-01, -8.24787491e-02,  2.84144301e-02,\n",
       "         -5.65179719e-02],\n",
       "        [ 2.99467996e-02, -3.69221499e-02,  2.94197890e-02,\n",
       "          1.04757926e-03,  2.80664711e-02, -2.76627203e-02,\n",
       "          8.41688160e-02, -7.96238839e-02,  1.73969815e-02,\n",
       "         -4.58376824e-02],\n",
       "        [ 3.25673443e-02, -2.69337499e-02,  2.21356570e-02,\n",
       "         -1.04022336e-02,  3.22162605e-02, -2.54186745e-02,\n",
       "          9.43871953e-02, -9.29439840e-02,  2.01265687e-02,\n",
       "         -4.57343838e-02],\n",
       "        [ 3.16046766e-02, -3.16118091e-02,  2.63333802e-02,\n",
       "         -1.74482233e-02,  3.63560754e-02, -2.74695675e-02,\n",
       "          9.69669456e-02, -8.75420566e-02,  2.54816380e-02,\n",
       "         -5.26710593e-02],\n",
       "        [ 2.89840828e-02, -4.07411565e-02,  2.70587763e-02,\n",
       "         -4.37192623e-03,  2.84595219e-02, -1.82113421e-02,\n",
       "          9.22466057e-02, -7.53266794e-02,  1.75435585e-02,\n",
       "         -5.56414410e-02],\n",
       "        [ 2.10859127e-02, -3.31317871e-02,  2.93849485e-02,\n",
       "         -2.08706046e-03,  2.67896343e-02, -3.02718872e-02,\n",
       "          9.05363445e-02, -8.40270276e-02,  2.98091951e-02,\n",
       "         -4.80882726e-02],\n",
       "        [ 2.75933449e-02, -2.12666079e-02,  2.32898755e-02,\n",
       "         -1.86401272e-02,  4.07008874e-02, -3.09937039e-02,\n",
       "          1.03302246e-01, -9.22680183e-02,  1.56823243e-02,\n",
       "         -4.74002208e-02],\n",
       "        [ 2.78933677e-02, -2.36640962e-02,  2.17570082e-02,\n",
       "         -1.99742071e-03,  2.97377074e-02, -2.67083580e-02,\n",
       "          9.02501750e-02, -7.86143992e-02,  1.35263897e-02,\n",
       "         -5.21803740e-02],\n",
       "        [ 3.58959396e-02, -3.83635738e-02,  3.09341150e-02,\n",
       "          1.43750351e-02,  2.51477917e-02, -3.06092757e-02,\n",
       "          9.63859953e-02, -8.39075800e-02,  8.26821513e-03,\n",
       "         -5.81266624e-02],\n",
       "        [ 4.87974349e-02, -2.40834363e-02,  3.61888116e-02,\n",
       "         -1.18781816e-02,  1.84355010e-02, -2.38584345e-02,\n",
       "          8.83042041e-02, -9.08433465e-02,  9.54747012e-03,\n",
       "         -5.06100229e-02],\n",
       "        [ 2.79030872e-02, -2.47714723e-02,  3.10039865e-02,\n",
       "         -2.77663233e-03,  3.73842177e-02, -2.48214069e-02,\n",
       "          8.67373515e-02, -9.29490283e-02,  1.35781190e-02,\n",
       "         -5.12882221e-02],\n",
       "        [ 2.51976989e-02, -2.66146680e-02,  2.33762356e-02,\n",
       "         -5.18631930e-03,  3.81141525e-02, -2.25834689e-02,\n",
       "          8.72970286e-02, -8.92791235e-02,  2.56796567e-02,\n",
       "         -5.60011926e-02],\n",
       "        [ 2.82116082e-02, -3.89407523e-02,  3.20210602e-02,\n",
       "         -3.36425906e-03,  4.61656387e-02, -2.55894894e-02,\n",
       "          8.63588146e-02, -9.29111981e-02,  2.24750309e-02,\n",
       "         -5.44264536e-02],\n",
       "        [ 4.12828420e-02, -2.15683374e-02,  3.40369201e-02,\n",
       "          1.69204659e-03,  2.30974469e-02, -3.14688962e-02,\n",
       "          9.23184278e-02, -1.00861811e-01,  1.29246642e-02,\n",
       "         -5.14533033e-02],\n",
       "        [ 2.50857013e-02, -3.31795792e-02,  2.16589217e-02,\n",
       "         -6.28083306e-03,  3.94245487e-02, -1.89423208e-02,\n",
       "          8.97404744e-02, -9.08497936e-02,  2.14326877e-02,\n",
       "         -4.80898070e-02],\n",
       "        [ 2.28211954e-02, -4.07859074e-02,  3.32411264e-02,\n",
       "          2.50737692e-04,  2.56587623e-02, -3.10531059e-02,\n",
       "          9.76696379e-02, -7.62848578e-02,  2.20127214e-02,\n",
       "         -5.35303102e-02],\n",
       "        [ 3.25795657e-02, -2.98674233e-02,  1.65572663e-02,\n",
       "         -4.91115598e-04,  3.26352819e-02, -3.76087301e-02,\n",
       "          9.02190159e-02, -8.09365191e-02,  2.63079715e-02,\n",
       "         -4.93953132e-02],\n",
       "        [ 3.16742831e-02, -2.85403737e-02,  2.52219516e-02,\n",
       "         -9.08436167e-03,  2.11086353e-02, -2.10783045e-02,\n",
       "          8.98345830e-02, -8.06710524e-02,  1.26826488e-02,\n",
       "         -4.11480096e-02],\n",
       "        [ 2.79358906e-02, -1.92091647e-02,  2.28335204e-02,\n",
       "          3.71336994e-03,  2.68901190e-02, -2.61590525e-02,\n",
       "          9.19381660e-02, -8.60617170e-02,  1.30847290e-02,\n",
       "         -5.49658608e-02],\n",
       "        [ 3.97310263e-02, -2.18569874e-02,  3.14116024e-02,\n",
       "         -6.04402374e-03,  2.65430069e-02, -3.24170918e-02,\n",
       "          9.48788818e-02, -9.41922647e-02,  1.84620634e-02,\n",
       "         -5.65162131e-02],\n",
       "        [ 2.42280088e-02, -3.11675299e-02,  3.16815849e-02,\n",
       "          8.92515492e-04,  2.40834429e-02, -2.50357494e-02,\n",
       "          8.97918035e-02, -7.80723252e-02,  1.93071067e-02,\n",
       "         -5.57088578e-02],\n",
       "        [ 2.86224071e-02, -2.06383615e-02,  2.83025081e-02,\n",
       "          6.13096538e-04,  3.32359668e-02, -3.42455214e-02,\n",
       "          9.48667689e-02, -8.18451744e-02,  8.30438348e-03,\n",
       "         -5.72160738e-02],\n",
       "        [ 3.55104603e-02, -3.68897319e-02,  3.12346373e-02,\n",
       "         -8.68647603e-03,  2.20840153e-02, -2.63184204e-02,\n",
       "          9.65965193e-02, -8.10345521e-02,  1.41564399e-02,\n",
       "         -4.66528917e-02],\n",
       "        [ 2.11745297e-02, -2.41834505e-02,  3.03427676e-02,\n",
       "         -5.73732385e-05,  2.52510941e-02, -2.45897269e-02,\n",
       "          9.20592207e-02, -8.79466206e-02,  1.78676704e-02,\n",
       "         -4.99181113e-02],\n",
       "        [ 3.52015281e-02, -2.14571931e-02,  3.06457903e-02,\n",
       "         -8.68858895e-03,  2.93585313e-02, -2.58190172e-02,\n",
       "          9.62176076e-02, -9.63293454e-02,  8.05745953e-03,\n",
       "         -4.71867722e-02],\n",
       "        [ 3.13415880e-02, -2.96030349e-02,  3.08506966e-02,\n",
       "          4.63723514e-03,  2.13988653e-02, -3.35788909e-02,\n",
       "          8.71428515e-02, -8.24462927e-02,  1.69812253e-02,\n",
       "         -4.67242433e-02],\n",
       "        [ 3.02424612e-02, -3.56976362e-02,  3.31460267e-02,\n",
       "          6.03042515e-03,  3.61512353e-02, -3.89993942e-02,\n",
       "          9.25572954e-02, -8.84176843e-02,  1.34230505e-02,\n",
       "         -4.84357794e-02],\n",
       "        [ 2.71866224e-02, -2.73538931e-02,  2.71354142e-02,\n",
       "         -1.02852802e-02,  2.95940698e-02, -1.89585690e-02,\n",
       "          9.04331193e-02, -7.40772168e-02,  1.44536483e-02,\n",
       "         -5.81279149e-02]]),\n",
       " 'b1': array([-2.04103827e-04, -4.13456510e-04,  2.50397269e-04, -3.85412937e-04,\n",
       "         1.24753695e-04,  6.98209437e-04,  2.03584536e-04, -1.33948126e-03,\n",
       "         1.64770993e-04,  5.44229964e-05,  1.37556084e-03, -4.49174505e-04,\n",
       "         2.17063423e-04,  1.29905724e-03,  3.77021713e-04, -1.24298488e-05,\n",
       "        -5.58050454e-04, -1.17487812e-03, -5.82158539e-05, -4.92383165e-04,\n",
       "        -1.62254437e-03,  5.52303603e-04, -1.03848605e-03, -4.16624548e-06,\n",
       "         5.09959348e-04, -6.05918472e-04, -6.33735594e-05, -4.56169977e-04,\n",
       "        -9.44411694e-04, -5.92723540e-04, -2.25650479e-04,  5.00302762e-04,\n",
       "        -1.15912308e-04, -6.20695590e-04,  3.53308945e-04,  3.80701320e-04,\n",
       "         5.97912178e-05,  3.02773195e-04, -3.62183418e-04, -7.16409644e-04,\n",
       "         7.46573864e-04,  3.06944462e-04, -5.96062353e-04,  9.40083681e-04,\n",
       "        -1.22334554e-03,  9.74817539e-04, -1.35885294e-04,  2.97122170e-04,\n",
       "        -8.86369978e-04, -7.28838815e-05, -9.89064567e-04,  1.35876707e-05,\n",
       "        -3.91589687e-04, -8.10957001e-04,  1.39334100e-06, -7.07463107e-04,\n",
       "        -1.15124393e-03,  1.25484222e-03, -1.29285401e-03,  3.27602342e-04,\n",
       "        -1.13039133e-03, -1.12722247e-03,  4.01071284e-05, -1.89557638e-04,\n",
       "        -4.89378268e-05,  1.56718773e-03, -6.14337020e-04,  2.15460400e-04,\n",
       "        -5.81532927e-05, -6.22376426e-04, -1.07764999e-03,  4.40723327e-04,\n",
       "        -3.76821144e-04,  2.22189511e-04,  1.10319424e-03,  7.83074504e-04,\n",
       "        -6.64283588e-04, -4.93039367e-04,  5.06049867e-04,  7.19662673e-04,\n",
       "         2.45693821e-04,  3.37355059e-04,  3.93298401e-04,  1.02053236e-03,\n",
       "         3.40091694e-04,  7.09568263e-04, -5.12849486e-04, -6.45471741e-04,\n",
       "         6.62496873e-04, -1.65275154e-04,  5.34499383e-04, -1.05240266e-03,\n",
       "        -2.42028449e-05,  7.99794826e-04, -4.33656389e-04, -4.94374550e-04,\n",
       "         5.92452330e-04,  2.83129954e-04,  1.12883126e-03,  1.48021250e-04]),\n",
       " 'b2': array([ 0.06015652, -0.05460419,  0.05519579, -0.00706427,  0.05458047,\n",
       "        -0.05970009,  0.18230731, -0.16855175,  0.03830553, -0.10062532])}"
      ]
     },
     "execution_count": 66,
     "metadata": {},
     "output_type": "execute_result"
    }
   ],
   "source": [
    "x = np.random.randn(100, 784)\n",
    "t = np.random.randn(100, 10)\n",
    "\n",
    "grads = net.numerical_gradient(x, t)\n",
    "grads"
   ]
  },
  {
   "cell_type": "code",
   "execution_count": 60,
   "metadata": {},
   "outputs": [
    {
     "name": "stdout",
     "output_type": "stream",
     "text": [
      "i = 0\n",
      "6.886351890845256\n",
      "i = 1\n",
      "6.879043135525069\n",
      "i = 2\n",
      "6.895445417526195\n",
      "i = 3\n",
      "6.889694582937534\n",
      "i = 4\n",
      "6.89998483265997\n",
      "i = 5\n",
      "6.889568896001833\n",
      "i = 6\n",
      "6.898184811630631\n"
     ]
    },
    {
     "ename": "KeyboardInterrupt",
     "evalue": "",
     "output_type": "error",
     "traceback": [
      "\u001b[0;31m---------------------------------------------------------------------------\u001b[0m",
      "\u001b[0;31mKeyboardInterrupt\u001b[0m                         Traceback (most recent call last)",
      "\u001b[0;32m<ipython-input-60-9f3175fa3260>\u001b[0m in \u001b[0;36m<module>\u001b[0;34m()\u001b[0m\n\u001b[1;32m     12\u001b[0m     \u001b[0mt_batch\u001b[0m \u001b[0;34m=\u001b[0m \u001b[0mt_train\u001b[0m\u001b[0;34m[\u001b[0m\u001b[0mbatch_mask\u001b[0m\u001b[0;34m]\u001b[0m\u001b[0;34m\u001b[0m\u001b[0m\n\u001b[1;32m     13\u001b[0m \u001b[0;34m\u001b[0m\u001b[0m\n\u001b[0;32m---> 14\u001b[0;31m     \u001b[0mgrad\u001b[0m \u001b[0;34m=\u001b[0m \u001b[0mnetwork\u001b[0m\u001b[0;34m.\u001b[0m\u001b[0mnumerical_gradient\u001b[0m\u001b[0;34m(\u001b[0m\u001b[0mx_batch\u001b[0m\u001b[0;34m,\u001b[0m \u001b[0mt_batch\u001b[0m\u001b[0;34m)\u001b[0m\u001b[0;34m\u001b[0m\u001b[0m\n\u001b[0m\u001b[1;32m     15\u001b[0m \u001b[0;34m\u001b[0m\u001b[0m\n\u001b[1;32m     16\u001b[0m     \u001b[0;32mfor\u001b[0m \u001b[0mkey\u001b[0m \u001b[0;32min\u001b[0m \u001b[0;34m(\u001b[0m\u001b[0;34m\"W1\"\u001b[0m\u001b[0;34m,\u001b[0m \u001b[0;34m\"b1\"\u001b[0m\u001b[0;34m,\u001b[0m \u001b[0;34m\"W2\"\u001b[0m\u001b[0;34m,\u001b[0m \u001b[0;34m\"b2\"\u001b[0m\u001b[0;34m)\u001b[0m\u001b[0;34m:\u001b[0m\u001b[0;34m\u001b[0m\u001b[0m\n",
      "\u001b[0;32m<ipython-input-38-1798c0ac4f66>\u001b[0m in \u001b[0;36mnumerical_gradient\u001b[0;34m(self, x, t)\u001b[0m\n\u001b[1;32m     37\u001b[0m         \u001b[0mgrads\u001b[0m \u001b[0;34m=\u001b[0m \u001b[0;34m{\u001b[0m\u001b[0;34m}\u001b[0m\u001b[0;34m\u001b[0m\u001b[0m\n\u001b[1;32m     38\u001b[0m \u001b[0;34m\u001b[0m\u001b[0m\n\u001b[0;32m---> 39\u001b[0;31m         \u001b[0mgrads\u001b[0m\u001b[0;34m[\u001b[0m\u001b[0;34m\"W1\"\u001b[0m\u001b[0;34m]\u001b[0m \u001b[0;34m=\u001b[0m \u001b[0mnumerical_gradient2\u001b[0m\u001b[0;34m(\u001b[0m\u001b[0mloss_W\u001b[0m\u001b[0;34m,\u001b[0m \u001b[0mself\u001b[0m\u001b[0;34m.\u001b[0m\u001b[0mparams\u001b[0m\u001b[0;34m[\u001b[0m\u001b[0;34m\"W1\"\u001b[0m\u001b[0;34m]\u001b[0m\u001b[0;34m)\u001b[0m\u001b[0;34m\u001b[0m\u001b[0m\n\u001b[0m\u001b[1;32m     40\u001b[0m         \u001b[0mgrads\u001b[0m\u001b[0;34m[\u001b[0m\u001b[0;34m\"b1\"\u001b[0m\u001b[0;34m]\u001b[0m \u001b[0;34m=\u001b[0m \u001b[0mnumerical_gradient2\u001b[0m\u001b[0;34m(\u001b[0m\u001b[0mloss_W\u001b[0m\u001b[0;34m,\u001b[0m \u001b[0mself\u001b[0m\u001b[0;34m.\u001b[0m\u001b[0mparams\u001b[0m\u001b[0;34m[\u001b[0m\u001b[0;34m\"b1\"\u001b[0m\u001b[0;34m]\u001b[0m\u001b[0;34m)\u001b[0m\u001b[0;34m\u001b[0m\u001b[0m\n\u001b[1;32m     41\u001b[0m         \u001b[0mgrads\u001b[0m\u001b[0;34m[\u001b[0m\u001b[0;34m\"W2\"\u001b[0m\u001b[0;34m]\u001b[0m \u001b[0;34m=\u001b[0m \u001b[0mnumerical_gradient2\u001b[0m\u001b[0;34m(\u001b[0m\u001b[0mloss_W\u001b[0m\u001b[0;34m,\u001b[0m \u001b[0mself\u001b[0m\u001b[0;34m.\u001b[0m\u001b[0mparams\u001b[0m\u001b[0;34m[\u001b[0m\u001b[0;34m\"W2\"\u001b[0m\u001b[0;34m]\u001b[0m\u001b[0;34m)\u001b[0m\u001b[0;34m\u001b[0m\u001b[0m\n",
      "\u001b[0;32m<ipython-input-22-cc3e76c8b0a6>\u001b[0m in \u001b[0;36mnumerical_gradient2\u001b[0;34m(f, x)\u001b[0m\n\u001b[1;32m      8\u001b[0m         \u001b[0mtmp_val\u001b[0m \u001b[0;34m=\u001b[0m \u001b[0mx\u001b[0m\u001b[0;34m[\u001b[0m\u001b[0midx\u001b[0m\u001b[0;34m]\u001b[0m\u001b[0;34m\u001b[0m\u001b[0m\n\u001b[1;32m      9\u001b[0m         \u001b[0mx\u001b[0m\u001b[0;34m[\u001b[0m\u001b[0midx\u001b[0m\u001b[0;34m]\u001b[0m \u001b[0;34m=\u001b[0m \u001b[0mfloat\u001b[0m\u001b[0;34m(\u001b[0m\u001b[0mtmp_val\u001b[0m\u001b[0;34m)\u001b[0m \u001b[0;34m+\u001b[0m \u001b[0mh\u001b[0m\u001b[0;34m\u001b[0m\u001b[0m\n\u001b[0;32m---> 10\u001b[0;31m         \u001b[0mfxh1\u001b[0m \u001b[0;34m=\u001b[0m \u001b[0mf\u001b[0m\u001b[0;34m(\u001b[0m\u001b[0mx\u001b[0m\u001b[0;34m)\u001b[0m \u001b[0;31m# f(x+h)\u001b[0m\u001b[0;34m\u001b[0m\u001b[0m\n\u001b[0m\u001b[1;32m     11\u001b[0m \u001b[0;34m\u001b[0m\u001b[0m\n\u001b[1;32m     12\u001b[0m         \u001b[0mx\u001b[0m\u001b[0;34m[\u001b[0m\u001b[0midx\u001b[0m\u001b[0;34m]\u001b[0m \u001b[0;34m=\u001b[0m \u001b[0mtmp_val\u001b[0m \u001b[0;34m-\u001b[0m \u001b[0mh\u001b[0m\u001b[0;34m\u001b[0m\u001b[0m\n",
      "\u001b[0;32m<ipython-input-38-1798c0ac4f66>\u001b[0m in \u001b[0;36m<lambda>\u001b[0;34m(W)\u001b[0m\n\u001b[1;32m     34\u001b[0m \u001b[0;34m\u001b[0m\u001b[0m\n\u001b[1;32m     35\u001b[0m     \u001b[0;32mdef\u001b[0m \u001b[0mnumerical_gradient\u001b[0m\u001b[0;34m(\u001b[0m\u001b[0mself\u001b[0m\u001b[0;34m,\u001b[0m \u001b[0mx\u001b[0m\u001b[0;34m,\u001b[0m \u001b[0mt\u001b[0m\u001b[0;34m)\u001b[0m\u001b[0;34m:\u001b[0m\u001b[0;34m\u001b[0m\u001b[0m\n\u001b[0;32m---> 36\u001b[0;31m         \u001b[0mloss_W\u001b[0m \u001b[0;34m=\u001b[0m \u001b[0;32mlambda\u001b[0m \u001b[0mW\u001b[0m\u001b[0;34m:\u001b[0m \u001b[0mself\u001b[0m\u001b[0;34m.\u001b[0m\u001b[0mloss\u001b[0m\u001b[0;34m(\u001b[0m\u001b[0mx\u001b[0m\u001b[0;34m,\u001b[0m \u001b[0mt\u001b[0m\u001b[0;34m)\u001b[0m\u001b[0;34m\u001b[0m\u001b[0m\n\u001b[0m\u001b[1;32m     37\u001b[0m         \u001b[0mgrads\u001b[0m \u001b[0;34m=\u001b[0m \u001b[0;34m{\u001b[0m\u001b[0;34m}\u001b[0m\u001b[0;34m\u001b[0m\u001b[0m\n\u001b[1;32m     38\u001b[0m \u001b[0;34m\u001b[0m\u001b[0m\n",
      "\u001b[0;32m<ipython-input-38-1798c0ac4f66>\u001b[0m in \u001b[0;36mloss\u001b[0;34m(self, x, t)\u001b[0m\n\u001b[1;32m     21\u001b[0m     \u001b[0;32mdef\u001b[0m \u001b[0mloss\u001b[0m\u001b[0;34m(\u001b[0m\u001b[0mself\u001b[0m\u001b[0;34m,\u001b[0m \u001b[0mx\u001b[0m\u001b[0;34m,\u001b[0m \u001b[0mt\u001b[0m\u001b[0;34m)\u001b[0m\u001b[0;34m:\u001b[0m\u001b[0;34m\u001b[0m\u001b[0m\n\u001b[1;32m     22\u001b[0m         \u001b[0my\u001b[0m \u001b[0;34m=\u001b[0m \u001b[0mself\u001b[0m\u001b[0;34m.\u001b[0m\u001b[0mpredict\u001b[0m\u001b[0;34m(\u001b[0m\u001b[0mx\u001b[0m\u001b[0;34m)\u001b[0m\u001b[0;34m\u001b[0m\u001b[0m\n\u001b[0;32m---> 23\u001b[0;31m         \u001b[0mloss\u001b[0m \u001b[0;34m=\u001b[0m \u001b[0mcross_entropy_error\u001b[0m\u001b[0;34m(\u001b[0m\u001b[0my\u001b[0m\u001b[0;34m,\u001b[0m \u001b[0mt\u001b[0m\u001b[0;34m)\u001b[0m\u001b[0;34m\u001b[0m\u001b[0m\n\u001b[0m\u001b[1;32m     24\u001b[0m \u001b[0;34m\u001b[0m\u001b[0m\n\u001b[1;32m     25\u001b[0m         \u001b[0;32mreturn\u001b[0m \u001b[0mloss\u001b[0m\u001b[0;34m\u001b[0m\u001b[0m\n",
      "\u001b[0;32m<ipython-input-7-d8157eaa1e9a>\u001b[0m in \u001b[0;36mcross_entropy_error\u001b[0;34m(y, t)\u001b[0m\n\u001b[1;32m      5\u001b[0m \u001b[0;34m\u001b[0m\u001b[0m\n\u001b[1;32m      6\u001b[0m     \u001b[0mbatch_size\u001b[0m \u001b[0;34m=\u001b[0m \u001b[0my\u001b[0m\u001b[0;34m.\u001b[0m\u001b[0mshape\u001b[0m\u001b[0;34m[\u001b[0m\u001b[0;36m0\u001b[0m\u001b[0;34m]\u001b[0m\u001b[0;34m\u001b[0m\u001b[0m\n\u001b[0;32m----> 7\u001b[0;31m     \u001b[0;32mreturn\u001b[0m \u001b[0;34m-\u001b[0m\u001b[0mnp\u001b[0m\u001b[0;34m.\u001b[0m\u001b[0msum\u001b[0m\u001b[0;34m(\u001b[0m\u001b[0mt\u001b[0m \u001b[0;34m*\u001b[0m \u001b[0mnp\u001b[0m\u001b[0;34m.\u001b[0m\u001b[0mlog\u001b[0m\u001b[0;34m(\u001b[0m\u001b[0my\u001b[0m \u001b[0;34m+\u001b[0m \u001b[0;36m1e-7\u001b[0m\u001b[0;34m)\u001b[0m\u001b[0;34m)\u001b[0m \u001b[0;34m/\u001b[0m \u001b[0mbatch_size\u001b[0m\u001b[0;34m\u001b[0m\u001b[0m\n\u001b[0m",
      "\u001b[0;32m~/.pyenv/versions/3.5.1/lib/python3.5/site-packages/numpy/core/fromnumeric.py\u001b[0m in \u001b[0;36msum\u001b[0;34m(a, axis, dtype, out, keepdims, initial)\u001b[0m\n\u001b[1;32m   1928\u001b[0m \u001b[0;34m\u001b[0m\u001b[0m\n\u001b[1;32m   1929\u001b[0m     return _wrapreduction(a, np.add, 'sum', axis, dtype, out, keepdims=keepdims,\n\u001b[0;32m-> 1930\u001b[0;31m                           initial=initial)\n\u001b[0m\u001b[1;32m   1931\u001b[0m \u001b[0;34m\u001b[0m\u001b[0m\n\u001b[1;32m   1932\u001b[0m \u001b[0;34m\u001b[0m\u001b[0m\n",
      "\u001b[0;32m~/.pyenv/versions/3.5.1/lib/python3.5/site-packages/numpy/core/fromnumeric.py\u001b[0m in \u001b[0;36m_wrapreduction\u001b[0;34m(obj, ufunc, method, axis, dtype, out, **kwargs)\u001b[0m\n\u001b[1;32m     68\u001b[0m             \u001b[0mpasskwargs\u001b[0m\u001b[0;34m[\u001b[0m\u001b[0mk\u001b[0m\u001b[0;34m]\u001b[0m \u001b[0;34m=\u001b[0m \u001b[0mv\u001b[0m\u001b[0;34m\u001b[0m\u001b[0m\n\u001b[1;32m     69\u001b[0m \u001b[0;34m\u001b[0m\u001b[0m\n\u001b[0;32m---> 70\u001b[0;31m     \u001b[0;32mif\u001b[0m \u001b[0mtype\u001b[0m\u001b[0;34m(\u001b[0m\u001b[0mobj\u001b[0m\u001b[0;34m)\u001b[0m \u001b[0;32mis\u001b[0m \u001b[0;32mnot\u001b[0m \u001b[0mmu\u001b[0m\u001b[0;34m.\u001b[0m\u001b[0mndarray\u001b[0m\u001b[0;34m:\u001b[0m\u001b[0;34m\u001b[0m\u001b[0m\n\u001b[0m\u001b[1;32m     71\u001b[0m         \u001b[0;32mtry\u001b[0m\u001b[0;34m:\u001b[0m\u001b[0;34m\u001b[0m\u001b[0m\n\u001b[1;32m     72\u001b[0m             \u001b[0mreduction\u001b[0m \u001b[0;34m=\u001b[0m \u001b[0mgetattr\u001b[0m\u001b[0;34m(\u001b[0m\u001b[0mobj\u001b[0m\u001b[0;34m,\u001b[0m \u001b[0mmethod\u001b[0m\u001b[0;34m)\u001b[0m\u001b[0;34m\u001b[0m\u001b[0m\n",
      "\u001b[0;31mKeyboardInterrupt\u001b[0m: "
     ]
    }
   ],
   "source": [
    "# hyper parameter\n",
    "iters_num = 10\n",
    "train_size = x_train.shape[0]\n",
    "batch_size = 100\n",
    "learning_rate = 0.1\n",
    "\n",
    "network = TwoLayerNet(input_size=784, hidden_size=100, output_size=10)\n",
    "\n",
    "for i in range(iters_num):\n",
    "    batch_mask = np.random.choice(train_size, batch_size)\n",
    "    x_batch = x_train[batch_mask]\n",
    "    t_batch = t_train[batch_mask]\n",
    "    \n",
    "    grad = network.numerical_gradient(x_batch, t_batch)\n",
    "    \n",
    "    for key in (\"W1\", \"b1\", \"W2\", \"b2\"):\n",
    "        network.params[key] -= learning_rate * grad[key]\n",
    "        \n",
    "    loss = network.loss(x_batch, t_batch)\n",
    "    train_loss_list.append(loss)\n",
    "\n",
    "    print(\"i = %s\" % i)\n",
    "    print(loss)\n",
    "\n",
    "\n",
    "train_loss_list"
   ]
  },
  {
   "cell_type": "code",
   "execution_count": null,
   "metadata": {},
   "outputs": [],
   "source": []
  }
 ],
 "metadata": {
  "kernelspec": {
   "display_name": "Python 3",
   "language": "python",
   "name": "python3"
  },
  "language_info": {
   "codemirror_mode": {
    "name": "ipython",
    "version": 3
   },
   "file_extension": ".py",
   "mimetype": "text/x-python",
   "name": "python",
   "nbconvert_exporter": "python",
   "pygments_lexer": "ipython3",
   "version": "3.5.1"
  }
 },
 "nbformat": 4,
 "nbformat_minor": 2
}
