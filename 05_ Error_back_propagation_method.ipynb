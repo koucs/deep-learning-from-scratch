{
 "cells": [
  {
   "cell_type": "code",
   "execution_count": 1,
   "metadata": {},
   "outputs": [],
   "source": [
    "import sys,os\n",
    "sys.path.append(os.curdir+\"/deep-learning-from-scratch\")\n",
    "from dataset.mnist import load_mnist\n",
    "\n",
    "import numpy as np\n",
    "from PIL import Image\n",
    "import matplotlib.pylab as plt"
   ]
  },
  {
   "cell_type": "code",
   "execution_count": 27,
   "metadata": {},
   "outputs": [],
   "source": [
    "def debug(variable):\n",
    "    print(variable, '=', repr(eval(variable)))"
   ]
  },
  {
   "cell_type": "code",
   "execution_count": 9,
   "metadata": {},
   "outputs": [],
   "source": [
    "class MulLayer:\n",
    "    def __init__(self):\n",
    "        self.x = None\n",
    "        self.y = None\n",
    "    \n",
    "    def forward(self, x, y):\n",
    "        self.x = x\n",
    "        self.y = y\n",
    "        out = x * y\n",
    "        return out\n",
    "    \n",
    "    def backward(self, dout):\n",
    "        # 積算の逆伝搬は \n",
    "        # f(x,y) = x*y\n",
    "        # df/dx = 1 * y\n",
    "        # df/dy = 1 * x\n",
    "        dx = self.y * dout\n",
    "        dy = self.x * dout\n",
    "        return dx, dy"
   ]
  },
  {
   "cell_type": "code",
   "execution_count": 16,
   "metadata": {},
   "outputs": [
    {
     "name": "stdout",
     "output_type": "stream",
     "text": [
      "220\n",
      "1.1\n",
      "200\n",
      "2.2\n",
      "110.00000000000001\n"
     ]
    }
   ],
   "source": [
    "apple = 100\n",
    "apple_num = 2\n",
    "tax = 1.1\n",
    "\n",
    "# layer\n",
    "apple_layer = MulLayer()\n",
    "tax_layer = MulLayer()\n",
    "\n",
    "# forward\n",
    "apple_price = apple_layer.forward(apple, apple_num)\n",
    "sum = int(tax_layer.forward(apple_price, tax))\n",
    "print(sum)\n",
    "\n",
    "# backward\n",
    "dprice = 1\n",
    "dapple_price, dtax = tax_layer.backward(dprice)\n",
    "print(dapple_price)\n",
    "print(dtax)\n",
    "\n",
    "dapple, dnum = apple_layer.backward(dapple_price)\n",
    "print(dapple)\n",
    "print(dnum)"
   ]
  },
  {
   "cell_type": "code",
   "execution_count": 29,
   "metadata": {},
   "outputs": [],
   "source": [
    "class AddLayer:\n",
    "    def __init__(self):\n",
    "        pass\n",
    "    \n",
    "    def forward(self, x, y):\n",
    "        self.x = x\n",
    "        self.y = y\n",
    "        out = x + y\n",
    "        return out\n",
    "    \n",
    "    def backward(self, dout):\n",
    "        # 加算の逆伝搬は \n",
    "        # f(x) = x + y\n",
    "        # df/dx = 1\n",
    "        # df/dy = 1\n",
    "        dx = 1 * dout\n",
    "        dy = 1 * dout\n",
    "        return dx, dy        "
   ]
  },
  {
   "cell_type": "code",
   "execution_count": 30,
   "metadata": {},
   "outputs": [
    {
     "name": "stdout",
     "output_type": "stream",
     "text": [
      "715.0000000000001\n"
     ]
    }
   ],
   "source": [
    "# 順伝搬\n",
    "apple = 100\n",
    "apple_num = 2\n",
    "apple_layer = MulLayer()\n",
    "apple_price = apple_layer.forward(apple, apple_num)\n",
    "\n",
    "orange = 150\n",
    "orange_num = 3\n",
    "orange_layer = MulLayer()\n",
    "orange_price = orange_layer.forward(orange, orange_num)\n",
    "\n",
    "sum_layer = AddLayer()\n",
    "sum_price = sum_layer.forward(apple_price, orange_price)\n",
    "\n",
    "tax = 1.1\n",
    "tax_layer = MulLayer()\n",
    "tax_price = tax_layer.forward(sum_price, tax)\n",
    "print(tax_price)"
   ]
  },
  {
   "cell_type": "code",
   "execution_count": 37,
   "metadata": {},
   "outputs": [
    {
     "name": "stdout",
     "output_type": "stream",
     "text": [
      "dsum_price = 1.1\n",
      "dtax_price = 650\n",
      "dapple_price = 1.1\n",
      "dorange_price = 1.1\n",
      "dapple = 2.2\n",
      "dapple_num = 110.00000000000001\n",
      "dorange = 3.3000000000000003\n",
      "dorange_num = 165.0\n"
     ]
    }
   ],
   "source": [
    "# 逆伝搬\n",
    "dout = 1\n",
    "dsum_price, dtax_price = tax_layer.backward(dout)\n",
    "debug(\"dsum_price\")\n",
    "debug(\"dtax_price\")\n",
    "\n",
    "dapple_price, dorange_price = sum_layer.backward(dsum_price)\n",
    "debug(\"dapple_price\")\n",
    "debug(\"dorange_price\")\n",
    "\n",
    "dapple, dapple_num = apple_layer.backward(dapple_price)\n",
    "debug(\"dapple\")\n",
    "debug(\"dapple_num\")\n",
    "\n",
    "dorange, dorange_num = orange_layer.backward(dorange_price)\n",
    "debug(\"dorange\")\n",
    "debug(\"dorange_num\")"
   ]
  },
  {
   "cell_type": "code",
   "execution_count": 43,
   "metadata": {},
   "outputs": [
    {
     "name": "stdout",
     "output_type": "stream",
     "text": [
      "[[ 1.  -0.5]\n",
      " [-2.   3. ]]\n",
      "[[False  True]\n",
      " [ True False]]\n",
      "x = array([[1., 0.],\n",
      "       [0., 3.]])\n"
     ]
    }
   ],
   "source": [
    "class Relu:\n",
    "    def __init__(self):\n",
    "        self.mask = None\n",
    "    \n",
    "    def forward(self, x):\n",
    "        self.mask = (x <= 0)\n",
    "        out = x.copy\n",
    "        out[self.mask] = 0\n",
    "        return out\n",
    "\n",
    "    def backward(self, dout):\n",
    "        dout[self.mask] = 0\n",
    "        dx = dout\n",
    "        return dx\n",
    "    \n",
    "x = np.array([[1.0, -0.5], [-2.0, 3.0]])\n",
    "print(x)\n",
    "mask = (x <= 0)\n",
    "print(mask)\n",
    "x[mask] = 0\n",
    "debug(\"x\")"
   ]
  },
  {
   "cell_type": "code",
   "execution_count": 44,
   "metadata": {},
   "outputs": [],
   "source": [
    "class Sigmoid:\n",
    "    def __init__(self):\n",
    "        self.out = None\n",
    "    \n",
    "    def forward(self, x):\n",
    "        self.out = 1 / (1 + np.exp(x*-1))    \n",
    "        return self.out\n",
    "\n",
    "    def backward(self, dout):\n",
    "        return dout * self.out * (1.0 - self.out)"
   ]
  },
  {
   "cell_type": "code",
   "execution_count": 45,
   "metadata": {},
   "outputs": [],
   "source": [
    "class Affine:\n",
    "    def __init__(self, W, b):\n",
    "        self.x = None\n",
    "        self.W = W\n",
    "        self.b = b\n",
    "        self.dW = None\n",
    "        self.db = None\n",
    "    \n",
    "    def forward(self, x):\n",
    "        self.x = x\n",
    "        out = np.dot(self.W, x) + self.b\n",
    "        return out\n",
    "\n",
    "    def backward(self, dout):\n",
    "        self.db = np.sum(dout, axis=0)\n",
    "        self.dW = np.dot(self.x.T, dout)\n",
    "\n",
    "        dx = np.dot(dout, self.W.T)\n",
    "        return dx"
   ]
  },
  {
   "cell_type": "code",
   "execution_count": null,
   "metadata": {},
   "outputs": [],
   "source": []
  }
 ],
 "metadata": {
  "kernelspec": {
   "display_name": "Python 3",
   "language": "python",
   "name": "python3"
  },
  "language_info": {
   "codemirror_mode": {
    "name": "ipython",
    "version": 3
   },
   "file_extension": ".py",
   "mimetype": "text/x-python",
   "name": "python",
   "nbconvert_exporter": "python",
   "pygments_lexer": "ipython3",
   "version": "3.5.1"
  }
 },
 "nbformat": 4,
 "nbformat_minor": 2
}
